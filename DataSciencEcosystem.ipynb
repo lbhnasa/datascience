{
 "cells": [
  {
   "cell_type": "markdown",
   "id": "90d3f454-dced-45ee-a943-085f77bfcc0f",
   "metadata": {},
   "source": [
    "# Data Science Tools and Ecosystem"
   ]
  },
  {
   "cell_type": "markdown",
   "id": "a58381e2-c5b7-4875-b15c-3d628a1520f9",
   "metadata": {},
   "source": [
    "#### In this notebook, Data Science Tools and Ecosystem are summarized."
   ]
  },
  {
   "cell_type": "markdown",
   "id": "36a8b6b5-0edd-46ac-815f-6d851d0eab9a",
   "metadata": {},
   "source": [
    "### Some of the popular languages that Data Scientists use are:"
   ]
  },
  {
   "cell_type": "markdown",
   "id": "7f909a3c-bf72-422e-a1de-70580ef58af2",
   "metadata": {},
   "source": [
    "1. Python\n",
    "2. R\n",
    "3. SQL\n",
    "4. pandas\n",
    "5. Numpy"
   ]
  },
  {
   "cell_type": "markdown",
   "id": "72d40d8c-79c8-4270-bae3-47f08e96cac4",
   "metadata": {},
   "source": [
    "List popular languages for Data Science"
   ]
  },
  {
   "cell_type": "markdown",
   "id": "a7496b69-8097-4a74-9adc-64ea7daf1f79",
   "metadata": {},
   "source": [
    "1. Pandas\n",
    "2. Numpy\n",
    "3. Apache Spark\n",
    "4. Big DL"
   ]
  },
  {
   "cell_type": "markdown",
   "id": "760e9346-141d-4be3-b872-b68698876182",
   "metadata": {},
   "source": [
    "|Data Science Tools | \n",
    "|-----|\n",
    "|RStudio |\n",
    "|Aarchee Spark|\n",
    "|Jupyter Notebook|"
   ]
  },
  {
   "cell_type": "markdown",
   "id": "63f82541-2a39-43a9-8854-a135c2e6d301",
   "metadata": {},
   "source": [
    "### Below are a few examples of evaluating arithmetic expressions in Python."
   ]
  },
  {
   "cell_type": "markdown",
   "id": "3fcc9ca0-c02a-486c-a4be-8f901df2ee3d",
   "metadata": {},
   "source": [
    "This is a simple arithmetic expression to multiply then add ingeters."
   ]
  },
  {
   "cell_type": "code",
   "execution_count": 10,
   "id": "13c7f4cb-949e-4dc6-93c4-0f3fe24cd901",
   "metadata": {},
   "outputs": [
    {
     "name": "stdout",
     "output_type": "stream",
     "text": [
      "17\n"
     ]
    }
   ],
   "source": [
    "a = 3\n",
    "b = 4\n",
    "c = 5\n",
    "\n",
    "x = (a*b) + c\n",
    "print(x)"
   ]
  },
  {
   "cell_type": "markdown",
   "id": "2a3b11a1-35ff-444a-94af-f51cd2267780",
   "metadata": {},
   "source": [
    "This will convert 200 munites to hours by dividing 60."
   ]
  },
  {
   "cell_type": "code",
   "execution_count": 13,
   "id": "1975d813-d8cd-438b-91ff-9da398ec60ce",
   "metadata": {},
   "outputs": [
    {
     "name": "stdout",
     "output_type": "stream",
     "text": [
      "3.3333333333333335\n"
     ]
    }
   ],
   "source": [
    "a = 200\n",
    "b = 60\n",
    "\n",
    "x = 200/60\n",
    "print(x)"
   ]
  },
  {
   "cell_type": "markdown",
   "id": "809551ad-f078-4e14-8c49-eea1582bfa5e",
   "metadata": {},
   "source": [
    "List popular languages for Data Science"
   ]
  },
  {
   "cell_type": "markdown",
   "id": "aa32b521-7086-42cf-ab0d-434348e66334",
   "metadata": {},
   "source": [
    "## Author\n",
    "Daniel Lee"
   ]
  },
  {
   "cell_type": "code",
   "execution_count": null,
   "id": "e8d86c5c-efc8-499d-aa77-af1776ac728d",
   "metadata": {},
   "outputs": [],
   "source": []
  }
 ],
 "metadata": {
  "kernelspec": {
   "display_name": "Python 3 (ipykernel)",
   "language": "python",
   "name": "python3"
  },
  "language_info": {
   "codemirror_mode": {
    "name": "ipython",
    "version": 3
   },
   "file_extension": ".py",
   "mimetype": "text/x-python",
   "name": "python",
   "nbconvert_exporter": "python",
   "pygments_lexer": "ipython3",
   "version": "3.11.9"
  }
 },
 "nbformat": 4,
 "nbformat_minor": 5
}
